{
 "cells": [
  {
   "cell_type": "code",
   "execution_count": null,
   "metadata": {},
   "outputs": [],
   "source": [
    "# Beräknar antalet ratings per film\n",
    "rating_per_movie = df_ratings.groupby('movieId').size().reset_index(name='num_ratings')\n",
    "# Sorterar filmer efter nr ratings\n",
    "sorted_movies = rating_per_movie.sort_values(by='num_ratings', ascending=False)\n",
    "# 10 filmer med flest ratings\n",
    "top_10_movies = sorted_movies.head(10)\n",
    "print('Top 10 Movies with Most Ratings')\n",
    "print(top_10_movies)"
   ]
  },
  {
   "cell_type": "code",
   "execution_count": null,
   "metadata": {},
   "outputs": [],
   "source": [
    "def recommender(movie_name, model, n_recommendations):\n",
    "    idx = process.extractOne(movie_name, df_movies[\"title\"])[2]\n",
    "    print(\"Movie Selected: \", df_movies[\"title\"][idx], \"Index: \", idx)\n",
    "    print(\"Searching for recommendations....\")\n",
    "    distances, indices = model.kneighbors(sparse_matrix[idx].reshape(1, -1), n_neighbors=n_recommendations)\n",
    "    for i in indices:\n",
    "        print(df_movies[\"title\"][i].where(i != idx))\n",
    "\n",
    "recommender(\"fight club\", model_knn,20)"
   ]
  },
  {
   "cell_type": "code",
   "execution_count": null,
   "metadata": {},
   "outputs": [],
   "source": [
    "# Först, fyll NaN-värden med en tom sträng i kolumnen 'tag'\n",
    "df_tags_filled = df_tags.fillna({'tag': ''})\n",
    "\n",
    "# Filtrera filmer som tillhör en specifik genre\n",
    "desired_genre = \"Drama\"  # Till exempel, vi väljer genren Drama\n",
    "df_movies_genre = df_tags_filled[df_tags_filled['tag'].str.contains(desired_genre, case=False)]\n",
    "\n",
    "# Skapa en ny DataFrame för betyg för filmer som tillhör den specifika genren\n",
    "df_filtered_genre = df_ratings[df_ratings['movieId'].isin(df_movies_genre['movieId'])]\n",
    "\n",
    "# Träna modellen och göra rekommendationer som vanligt\n",
    "model_knn = NearestNeighbors(metric=\"cosine\", algorithm=\"brute\", n_neighbors=2)\n",
    "model_knn.fit(df_filtered_genre)  # Träna modellen med data från den specifika genren\n",
    "\n",
    "def recommender_genre(movie_name, model, n_recommendations):\n",
    "    match = process.extractOne(movie_name, df_movies_genre[\"tag\"])\n",
    "    if match is not None:\n",
    "        idx = match[2]\n",
    "        print(\"Movie Selected: \", df_movies_genre[\"tag\"].iloc[idx], \"Index: \", idx)\n",
    "        print(\"Searching for recommendations....\")\n",
    "        distances, indices = model.kneighbors(sparse_matrix[idx].reshape(1, -1), n_neighbors=n_recommendations)\n",
    "        for i in indices:\n",
    "            if i != idx and 0 <= i < len(df_movies_genre):  # Kontroll för att undvika ogiltiga index\n",
    "                print(df_movies_genre[\"tag\"].iloc[i])\n",
    "            else:\n",
    "                print(\"Invalid index:\", i)\n",
    "    else:\n",
    "        print(\"Movie not found:\", movie_name)\n",
    "\n",
    "# Använd funktionen för att göra rekommendationer för en specifik film inom den valda genren\n",
    "recommender_genre('Notebook', model_knn, 20)\n"
   ]
  }
 ],
 "metadata": {
  "language_info": {
   "name": "python"
  }
 },
 "nbformat": 4,
 "nbformat_minor": 2
}
