{
 "cells": [
  {
   "cell_type": "code",
   "execution_count": null,
   "metadata": {},
   "outputs": [],
   "source": [
    "# Beräknar antalet ratings per film\n",
    "rating_per_movie = df_ratings.groupby('movieId').size().reset_index(name='num_ratings')\n",
    "# Sorterar filmer efter nr ratings\n",
    "sorted_movies = rating_per_movie.sort_values(by='num_ratings', ascending=False)\n",
    "# 10 filmer med flest ratings\n",
    "top_10_movies = sorted_movies.head(10)\n",
    "print('Top 10 Movies with Most Ratings')\n",
    "print(top_10_movies)"
   ]
  }
 ],
 "metadata": {
  "language_info": {
   "name": "python"
  }
 },
 "nbformat": 4,
 "nbformat_minor": 2
}
